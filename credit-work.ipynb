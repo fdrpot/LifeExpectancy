{
 "cells": [
  {
   "cell_type": "markdown",
   "metadata": {},
   "source": [
    "# Анализ данных об ожидаемой продолжительности жизни в субъектах РФ\n",
    "\n",
    "## Цель исследования\n",
    "\n",
    "В качестве цели исследования поставим анализ и визуализацию данных об ожидаемой продолжительности жизни в РФ и определение наличия или отсутствия статистической зависимости этого параметра от численности населения на одного врача.\n",
    "\n",
    "## Данные для исследования\n",
    "\n",
    "Для выполнения данной работы воспользуемся данными Федеральной службы государственной статистики (Росстат). Будем использовать следующие показатели по каждому субъекту федерации:\n",
    "- Ожидаемая продолжительность жизни при рождении за 1990-2023 годы (`data/rosstat_life_expectancy.xlsx`)\n",
    "- Численность населения на одного врача за 1997-2017 годы (`data/rosstat_population_per_doctor.xlsx`)\n",
    "\n",
    "Также используем систематизированные данные о субъектах РФ из [GitHub-репозитория](https://github.com/arbaev/russia-cities). Данные представлены в формате JSON в файле `./data/russia-regions.json`.\n",
    "\n",
    "Для построения карты будем использовать данные о границах субъектов из [GitHub-репозитория](https://github.com/timurkanaz/Russia_geojson_OSM) (файл `data/Russia_regions.geojson`)\n",
    "\n",
    "## Загрузка данных\n",
    "\n",
    "Для анализа данных будем использовать язык Python и библиотеку `pandas`. Загрузим данные об ожидаемой продолжительности жизни в `DataFrame`."
   ]
  },
  {
   "cell_type": "code",
   "execution_count": null,
   "metadata": {},
   "outputs": [],
   "source": [
    "import pandas as pd\n",
    "\n",
    "DF_LIFE_EXPECTANCY = pd.read_excel('./data/rosstat_life_expectancy.xlsx', sheet_name='Отчет', header=1)[2:]\n",
    "DF_LIFE_EXPECTANCY.head()\n"
   ]
  },
  {
   "cell_type": "markdown",
   "metadata": {},
   "source": [
    "Загрузим данные (ОКАТО и Федеральный округ) о 83 субъектах РФ в `DataFrame` `DF_REGIONS`."
   ]
  },
  {
   "cell_type": "code",
   "execution_count": null,
   "metadata": {},
   "outputs": [],
   "source": [
    "DF_REGIONS = pd.read_json('./data/russia-regions.json')[['okato', 'district']]\n",
    "DF_REGIONS.head(8)"
   ]
  },
  {
   "cell_type": "markdown",
   "metadata": {},
   "source": [
    "Напишем функцию для фильтрации `DataFrame`, оставляющую только данные о 83 субъектах из `DF_REGIONS`."
   ]
  },
  {
   "cell_type": "code",
   "execution_count": null,
   "metadata": {},
   "outputs": [],
   "source": [
    "def filter_regions(target_df: pd.DataFrame, regions_df: pd.DataFrame) -> pd.DataFrame:\n",
    "    return target_df[target_df['ОКАТО'].isin(regions_df['okato'])]"
   ]
  },
  {
   "cell_type": "markdown",
   "metadata": {},
   "source": [
    "Исправим названия колонок в `DF_LIFE_EXPECTANCY`: Добавим названия для первых двух (Регион и ОКАТО - Общероссийский Классификатор Объектов Административно-Территориальных Образований), остальные (года измерений) приведём к типу `int`.\n",
    "\n",
    "Заменим нулевые значения на `numpy.nan`.\n",
    "\n",
    "Отфильтруем субъекты с помощью ранее написанной функции `filter_regions`.\n",
    "\n",
    "Также исправим индексацию (на `0, 1, ..., n`) с помощью метода `DataFrame.reset_index`."
   ]
  },
  {
   "cell_type": "code",
   "execution_count": null,
   "metadata": {},
   "outputs": [],
   "source": [
    "import numpy as np\n",
    "\n",
    "def transform_years(year: str) -> int | str:\n",
    "    if len(year.split()) == 1:\n",
    "        return year\n",
    "    return int(year.split()[0])\n",
    "\n",
    "\n",
    "new_names = {\n",
    "    \"Unnamed: 0\": \"Регион\",\n",
    "    \"Unnamed: 1\": \"ОКАТО\"\n",
    "}\n",
    "\n",
    "DF_LIFE_EXPECTANCY.rename(new_names, axis='columns', inplace=True)\n",
    "DF_LIFE_EXPECTANCY.rename(transform_years, axis='columns', inplace=True)\n",
    "\n",
    "DF_LIFE_EXPECTANCY['ОКАТО'] = DF_LIFE_EXPECTANCY['ОКАТО'].astype(int)\n",
    "\n",
    "DF_LIFE_EXPECTANCY.replace(0, np.nan, inplace=True)\n",
    "\n",
    "DF_LIFE_EXPECTANCY = filter_regions(DF_LIFE_EXPECTANCY, DF_REGIONS)\n",
    "\n",
    "DF_LIFE_EXPECTANCY.reset_index(drop=True, inplace=True)\n",
    "\n",
    "DF_LIFE_EXPECTANCY"
   ]
  },
  {
   "cell_type": "markdown",
   "metadata": {},
   "source": [
    "Напишем функцию для сокращения названий некоторых субъектов `replace_long_names` (в целях улучшения читаемости), она принимает на вход `DataFrame` и меняет в нём все заданные названия на более короткие.\n",
    "\n",
    "Применим эту функцию к `DF_LIFE_EXPECTANCY`."
   ]
  },
  {
   "cell_type": "code",
   "execution_count": null,
   "metadata": {},
   "outputs": [],
   "source": [
    "def replace_long_names(df: pd.DataFrame) -> None:\n",
    "    names_to_replace = {\n",
    "        \"Город Москва столица Российской Федерации город федерального значения\": \"Город Москва\",\n",
    "        \"Город федерального значения Севастополь\": \"Город Севастопль\",\n",
    "        \"Тюменская область (кроме Ханты-Мансийского автономного округа-Югры и Ямало-Ненецкого автономного округа)\": \"Тюменская область (кроме ХМАО и ЯНАО)\"\n",
    "    }\n",
    "\n",
    "    for old_name, new_name in names_to_replace.items():\n",
    "        df.replace(old_name, new_name, inplace=True)\n",
    "replace_long_names(DF_LIFE_EXPECTANCY)"
   ]
  },
  {
   "cell_type": "code",
   "execution_count": null,
   "metadata": {},
   "outputs": [],
   "source": [
    "DF_LIFE_EXPECTANCY.describe()"
   ]
  },
  {
   "cell_type": "markdown",
   "metadata": {},
   "source": [
    "Аналогичные действия выполним для численности населения на одного врача."
   ]
  },
  {
   "cell_type": "code",
   "execution_count": null,
   "metadata": {},
   "outputs": [],
   "source": [
    "DF_POPULATION_PER_DOCTOR = pd.read_excel('./data/rosstat_population_per_doctor.xlsx', sheet_name='Отчет', header=1)\n",
    "\n",
    "DF_POPULATION_PER_DOCTOR.rename(new_names, axis='columns', inplace=True)\n",
    "DF_POPULATION_PER_DOCTOR.rename(transform_years, axis='columns', inplace=True)\n",
    "\n",
    "DF_POPULATION_PER_DOCTOR.replace(0, np.nan, inplace=True)\n",
    "\n",
    "DF_POPULATION_PER_DOCTOR = filter_regions(DF_POPULATION_PER_DOCTOR, DF_REGIONS)\n",
    "\n",
    "replace_long_names(DF_POPULATION_PER_DOCTOR)\n",
    "\n",
    "DF_POPULATION_PER_DOCTOR.reset_index(drop=True, inplace=True)\n",
    "\n",
    "DF_POPULATION_PER_DOCTOR.head()"
   ]
  },
  {
   "cell_type": "code",
   "execution_count": null,
   "metadata": {},
   "outputs": [],
   "source": [
    "DF_POPULATION_PER_DOCTOR.describe()"
   ]
  },
  {
   "cell_type": "markdown",
   "metadata": {},
   "source": [
    "Итак, после загрузки и первичной обработки данных Росстата мы получили 2 `DataFrame'a`:\n",
    "- `DF_LIFE_EXPECTANCY` - основной набор данных, содержит данные об ожидаемой продолжительности жизни при рождении по субъектам РФ за 1990-2023 годы\n",
    "- `DF_POPULATION_PER_DOCTOR` - данные о численности населения на одного врача по субъектам РФ за 1997-2017 годы\n",
    "\n",
    "Также получен `DataFrame` `DF_REGIONS` с данными о регионах РФ.\n",
    "\n",
    "Ожидаемую прододжительность жизни (ОПЖ) при рождении Росстат вычисляет по следующей формуле:\n",
    "$$e(0)=\\frac{T_0}{I_0},$$\n",
    "где $T_0$ - число человеко-лет, которое предстоить прожить гипотетической когорте в 100 000 человек (на основании возраста текущего населения);\n",
    "$I_0$ - численность гипотетической когорты (для ОПЖ при рождении - 100 000 человек).\n",
    "\n",
    "## Анализ ожидаемой продолжительности жизни\n",
    "\n",
    "Проанализируем `DF_LIFE_EXPECTANCY`.\n",
    "\n",
    "Посчитаем среднюю продолжительность жизни для регионов, в которых проводились измерения во все годы в 1990-2023, сохраним в `pandas.Series` и построим график с 5 субъектами, где показатель наивысший, и с 5 субъектами, где показатель наименьший."
   ]
  },
  {
   "cell_type": "code",
   "execution_count": null,
   "metadata": {},
   "outputs": [],
   "source": [
    "mean_life_expectancy = DF_LIFE_EXPECTANCY.dropna().drop(\"ОКАТО\", axis=1).set_index(\"Регион\").mean(axis=1).sort_values()\n",
    "mean_life_expectancy"
   ]
  },
  {
   "cell_type": "markdown",
   "metadata": {},
   "source": [
    "Графики будем строить с помощью библиотеки `matplotlib`."
   ]
  },
  {
   "cell_type": "code",
   "execution_count": null,
   "metadata": {},
   "outputs": [],
   "source": [
    "import matplotlib.pyplot as plt\n",
    "\n",
    "plt.figure(\"1\", (8, 4))\n",
    "\n",
    "plt.barh(mean_life_expectancy[:5].index, mean_life_expectancy[:5], align='center', color='red')\n",
    "plt.barh(mean_life_expectancy[-5:].index, mean_life_expectancy[-5:], align='center', color='green')\n",
    "\n",
    "plt.grid()\n",
    "plt.gca().xaxis.tick_top()\n",
    "plt.gca().invert_yaxis()\n",
    "plt.xticks(range(0, 76, 5))\n",
    "plt.title(\"Средняя за 1990-2023 гг. ожидаемая продолжительность жизни, лет\")\n",
    "\n",
    "plt.tight_layout()\n",
    "plt.savefig('./images/life_expectancy_top.png', transparent=True)\n",
    "\n",
    "plt.show()"
   ]
  },
  {
   "cell_type": "markdown",
   "metadata": {},
   "source": [
    "Получаем, что самая низкая средняя ожидаемая продолжительность жизни (ОПЖ) при рождении за рассматриваемый период наблюдалась в Республике Тыва, а самая высокая -  в Республике Дагестан.\n",
    "\n",
    "Найдём среднее значение ожидаемой продолжительности жизни по каждому году среди всех регионов и сохраним в `Series`."
   ]
  },
  {
   "cell_type": "code",
   "execution_count": null,
   "metadata": {},
   "outputs": [],
   "source": [
    "mean_life_expectancy_by_years = DF_LIFE_EXPECTANCY.T[2:].mean(axis=1)\n",
    "mean_life_expectancy_by_years.head()"
   ]
  },
  {
   "cell_type": "markdown",
   "metadata": {},
   "source": [
    "Построим график ожидаемой продолжительности жизни за 1990-2023 годы. Нанесем найденные ранее субъекты с максимальными и минимальными значениями. Добавим средние значения из `mean_life_expectancy_by_years` и средние значения по группам максимальных и минимальных регионов."
   ]
  },
  {
   "cell_type": "code",
   "execution_count": null,
   "metadata": {},
   "outputs": [],
   "source": [
    "plt.figure(\"2\", (20, 10))\n",
    "\n",
    "\n",
    "plt.plot(mean_life_expectancy_by_years, '-o', label=\"Среднее по всем регионам\")\n",
    "\n",
    "for i, region in enumerate(mean_life_expectancy.index[:5]):\n",
    "    plt.plot(DF_LIFE_EXPECTANCY[DF_LIFE_EXPECTANCY['Регион'] == region].iloc[0][2:], label='Группа с min ОПЖ' if i == 0 else '', color='#fca89f')\n",
    "\n",
    "\n",
    "min_regions = DF_LIFE_EXPECTANCY[DF_LIFE_EXPECTANCY['Регион'].isin(mean_life_expectancy.index[:5])]\n",
    "mean_life_expectancy_min = min_regions.T[2:].mean(axis=1)\n",
    "\n",
    "plt.plot(mean_life_expectancy_min, '-o', label='Среднее среди минимальных', color='#f80000')\n",
    "\n",
    "for i, region in enumerate(mean_life_expectancy.index[-5:]):\n",
    "    plt.plot(DF_LIFE_EXPECTANCY[DF_LIFE_EXPECTANCY['Регион'] == region].iloc[0][2:], label='Группа с max ОПЖ' if i == 0 else '', color='#badbad')\n",
    "\n",
    "max_regions = DF_LIFE_EXPECTANCY[DF_LIFE_EXPECTANCY['Регион'].isin(mean_life_expectancy.index[-5:])]\n",
    "mean_life_expectancy_max = max_regions.T[2:].mean(axis=1)\n",
    "\n",
    "plt.plot(mean_life_expectancy_max, '-o', label='Среднее среди максимальных', color='#006600')\n",
    "\n",
    "plt.xticks(range(1990, 2024))\n",
    "plt.yticks(range(53, 81))\n",
    "plt.margins(x=0.01)\n",
    "plt.legend()\n",
    "plt.grid()\n",
    "plt.xlabel(\"Год\")\n",
    "plt.ylabel(\"Ожидаемая продолжительность жизни\")\n",
    "plt.title(\"График ОПЖ при рождении за 1990-2023 годы\")\n",
    "\n",
    "plt.tight_layout()\n",
    "plt.savefig('./images/regions_expectancy_plot.png', transparent=True)\n",
    "\n",
    "plt.show()"
   ]
  },
  {
   "cell_type": "markdown",
   "metadata": {},
   "source": [
    "По графику видим, что между средними \"минимальной\" и \"максимальной\" группами есть существенный отрыв (около 5-10 лет). Построим диаграмму для иллюстрации этого отрыва."
   ]
  },
  {
   "cell_type": "code",
   "execution_count": null,
   "metadata": {},
   "outputs": [],
   "source": [
    "from matplotlib.colors import Normalize\n",
    "\n",
    "plt.figure(\"3\", (18, 7))\n",
    "\n",
    "difference_mean = mean_life_expectancy_max - mean_life_expectancy_min\n",
    "\n",
    "normalizer = Normalize(difference_mean.min(), difference_mean.max())\n",
    "colors = plt.cm.RdYlGn_r(normalizer(list(difference_mean)))\n",
    "\n",
    "plt.bar(difference_mean.index, difference_mean, color=colors)\n",
    "\n",
    "plt.xticks(range(1990, 2024))\n",
    "plt.yticks(range(0, 13))\n",
    "plt.grid(axis='y')\n",
    "plt.margins(x=0.01)\n",
    "\n",
    "plt.xlabel('Год')\n",
    "plt.ylabel('Разница в ОПЖ, лет')\n",
    "plt.title('Разрыв между средними ОПЖ \"минимальной\" и \"максимальной\" групп')\n",
    "\n",
    "plt.tight_layout()\n",
    "plt.savefig('./images/regions_expectancy_difference.png', transparent=True)\n",
    "\n",
    "plt.show()"
   ]
  },
  {
   "cell_type": "markdown",
   "metadata": {},
   "source": [
    "Видим, что до 2000 года разрыв был около 7 лет, затем произошел серьезный скачок, и до 2013 года разрыв между средними в этих группах составлял около 11 лет. Далее началось сокращение этого разрыва (2014-2021 гг.). Но в последние годы (2021-2023) разница между этими группами вновь стала расти.\n",
    "\n",
    "Посмотрим на динамику ОПЖ при рождении в различных федеральных округах РФ. Для этого соберём средние данные по ним в `DataFrame` `mean_by_districts`."
   ]
  },
  {
   "cell_type": "code",
   "execution_count": null,
   "metadata": {},
   "outputs": [],
   "source": [
    "mean_by_districts = DF_LIFE_EXPECTANCY.merge(DF_REGIONS, left_on='ОКАТО', right_on='okato')\\\n",
    "                                        .drop(['okato', 'ОКАТО', 'Регион'], axis='columns')\\\n",
    "                                        .groupby('district').mean()\n",
    "mean_by_districts"
   ]
  },
  {
   "cell_type": "markdown",
   "metadata": {},
   "source": [
    "По полученным данным построим график."
   ]
  },
  {
   "cell_type": "code",
   "execution_count": null,
   "metadata": {},
   "outputs": [],
   "source": [
    "plt.figure(\"4\", (20, 10))\n",
    "\n",
    "plt.plot(mean_by_districts.T, '-o', label=mean_by_districts.index)\n",
    "plt.plot(mean_life_expectancy_by_years, label='Среднее по всем регионам', linewidth=7)\n",
    "\n",
    "plt.xticks(range(1990, 2024))\n",
    "plt.yticks(range(60,79))\n",
    "plt.margins(x=0.01)\n",
    "plt.legend(fontsize=15)\n",
    "plt.grid()\n",
    "plt.xlabel(\"Год\")\n",
    "plt.ylabel(\"Ожидаемая продолжительность жизни\")\n",
    "plt.title(\"График ОПЖ при рождении за 1990-2023 годы (федеральные округа)\")\n",
    "\n",
    "plt.tight_layout()\n",
    "plt.savefig('./images/districts_expectancy_plot.png', transparent=True)\n",
    "\n",
    "plt.show()"
   ]
  },
  {
   "cell_type": "markdown",
   "metadata": {},
   "source": [
    "По графику видим, что самые высокие показатели (и значительно выше среднего по регионам) стабильно демонстрирует Северо-Кавказский федеральный округ. Самые низкие значения наблюдаются в Дальневосточном федеральном округе.\n",
    "\n",
    "Построим диаграмму, отражающую среднее отклонение для каждого ФО от среднего значения по стране.\n",
    "Значения среднего отклонения поместим в `Series` `mean_deviation_by_districts`."
   ]
  },
  {
   "cell_type": "code",
   "execution_count": null,
   "metadata": {},
   "outputs": [],
   "source": [
    "mean_deviation_by_districts = (mean_by_districts - mean_life_expectancy_by_years).mean(axis=1)\n",
    "mean_deviation_by_districts"
   ]
  },
  {
   "cell_type": "code",
   "execution_count": null,
   "metadata": {},
   "outputs": [],
   "source": [
    "colors = ['#f13a13' if value < 0 else '#2bb52b' for value in mean_deviation_by_districts]\n",
    "\n",
    "plt.figure(\"5\", (13, 6))\n",
    "plt.bar(mean_deviation_by_districts.index, mean_deviation_by_districts, color=colors)\n",
    "\n",
    "plt.grid(axis='y')\n",
    "plt.margins(x=0.02)\n",
    "plt.yticks(np.arange(-3.0, 4.6, 0.5))\n",
    "plt.xlabel('Федеральный округ')\n",
    "plt.ylabel('Среднее отклонение, лет')\n",
    "plt.title('Среднее отклонение ОПЖ в ФО от среднего по всем регионам')\n",
    "\n",
    "plt.tight_layout()\n",
    "plt.savefig('./images/districts_mean_deviation.png', transparent=True)\n",
    "\n",
    "plt.show()"
   ]
  },
  {
   "cell_type": "markdown",
   "metadata": {},
   "source": [
    "По диаграмме видим, что в Северо-Кавказском ФО в среднем ОПЖ больше на 4,5 года среднего по стране, а в Дальневосточном ФО - меньше на почти 3 года.\n",
    "\n",
    "Постром диаграмму `boxplot` по средним значениям регионов за рассматриваемый период по федеральным округам, чтобы определить рассеяность значений внутри каждого ФО."
   ]
  },
  {
   "cell_type": "code",
   "execution_count": null,
   "metadata": {},
   "outputs": [],
   "source": [
    "districts = DF_REGIONS['district'].unique()\n",
    "district_data = dict()\n",
    "for district in districts:\n",
    "    district_okatos = DF_REGIONS[DF_REGIONS['district'] == district]['okato']\n",
    "    district_df = DF_LIFE_EXPECTANCY[DF_LIFE_EXPECTANCY['ОКАТО'].isin(district_okatos)].drop(['ОКАТО', 'Регион'], axis='columns')\n",
    "    district_data[district] = list(district_df.mean(axis=1))\n",
    "district_data"
   ]
  },
  {
   "cell_type": "code",
   "execution_count": null,
   "metadata": {},
   "outputs": [],
   "source": [
    "import seaborn as sns\n",
    "\n",
    "plt.figure(\"6\", (12, 5))\n",
    "sns.boxplot(district_data)\n",
    "\n",
    "plt.yticks(range(60, 78))\n",
    "plt.xlabel('Федеральный округ')\n",
    "plt.ylabel('ОПЖ при рождении, лет')\n",
    "plt.grid(axis='y')\n",
    "plt.title('Распределение ОПЖ при рождении в федеральных округах')\n",
    "\n",
    "plt.tight_layout()\n",
    "plt.savefig('./images/districts_boxplot.png', transparent=True)\n",
    "\n",
    "plt.show()"
   ]
  },
  {
   "cell_type": "code",
   "execution_count": null,
   "metadata": {},
   "outputs": [],
   "source": [
    "mean_life_expectancy['Город Москва']"
   ]
  },
  {
   "cell_type": "markdown",
   "metadata": {},
   "source": [
    "По диаграмме видим, что наиболее рассеяны значения в Сибирском ФО, а меньше всего ОПЖ варьируется в Южном ФО. Также данная диаграмма вновь иллюстрирует превосходство Северо-Кавказского ФО по ОПЖ над другими ФО. В Центральном ФО наблюдается выброс (примерно 72.5 года), это среднее значение ОПЖ в Москве.\n",
    "\n",
    "Построим таблицу с параметрами ОПЖ по федеральным округам."
   ]
  },
  {
   "cell_type": "code",
   "execution_count": null,
   "metadata": {},
   "outputs": [],
   "source": [
    "table_data = DF_LIFE_EXPECTANCY.merge(DF_REGIONS, left_on='ОКАТО', right_on='okato')\\\n",
    "                                        .drop(['okato', 'ОКАТО', 'Регион'], axis='columns')\n",
    "table = pd.DataFrame(index=DF_REGIONS['district'].unique(), columns=['min 1990', 'mean 1990', 'max 1990',\n",
    "                                                                     'min 2023', 'mean 2023', 'max 2023'])\n",
    "table.index.name = 'Федеральный округ'\n",
    "\n",
    "table['min 1990'] = table_data.groupby('district')[1990].min()\n",
    "table['mean 1990'] = table_data.groupby('district')[1990].mean().round(2)\n",
    "table['max 1990'] = table_data.groupby('district')[1990].max()\n",
    "\n",
    "table['min 2023'] = table_data.groupby('district')[2023].min()\n",
    "table['mean 2023'] = table_data.groupby('district')[2023].mean().round(2)\n",
    "table['max 2023'] = table_data.groupby('district')[2023].max()\n",
    "\n",
    "table['mean difference'] = table['mean 2023'] - table['mean 1990']\n",
    "table.loc['Среднее'] = table.mean(axis=0)\n",
    "table"
   ]
  },
  {
   "cell_type": "markdown",
   "metadata": {},
   "source": [
    "Видим, что во всех федеральных округах средние значения за рассматриваемый период выросли (в среднем 3.70 года). Наибольший прирост наблюдался в Северо-Кавказском ФО, наименьший - в Дальневосточном ФО.\n",
    "\n",
    "Выведем карту с 83 субъектами РФ для иллюстрации средней ОПЖ при рождении за 1990-2023 годы. Для этого воспользуемся файлом GeoJSON по субъектам РФ (`data/Russia_regions.geojson`). Также будем использовать бибилиотеки `GeoPandas` для работы с географическими данными (тип `geometry`) и `folium` для отображения данных на карте Open Street Map."
   ]
  },
  {
   "cell_type": "code",
   "execution_count": null,
   "metadata": {},
   "outputs": [],
   "source": [
    "import geopandas as gpd\n",
    "\n",
    "GEO_DF = gpd.read_file('./data/Russia_regions.geojson')\n",
    "GEO_DF"
   ]
  },
  {
   "cell_type": "markdown",
   "metadata": {},
   "source": [
    "Сопоставим названия регионов с данными из `russia-regions.json`, чтобы получить номера ОКАТО субъектов."
   ]
  },
  {
   "cell_type": "code",
   "execution_count": null,
   "metadata": {},
   "outputs": [],
   "source": [
    "reg_df = pd.read_json('./data/russia-regions.json')\n",
    "reg_df['fullname'] = reg_df['fullname'].str.casefold()\n",
    "reg_df['fullname'] = reg_df['fullname'].str.replace('автономная область', 'ао').str.replace('автономный округ', 'ао')\n",
    "reg_df['fullname'] = reg_df['fullname'].str.replace('область', 'обл.')\n",
    "reg_df['fullname'] = reg_df['fullname'].str.replace(r' ?/[ а-я]*/?', '', regex=True)\n",
    "\n",
    "GEO_DF['region'] = GEO_DF['region'].str.casefold()\n",
    "GEO_DF['region'] = GEO_DF['region'].str.replace(r'\\([а-я]*\\)', '', regex=True)\n",
    "GEO_DF['region'] = GEO_DF['region'].str.replace('г. ', '')\n",
    "GEO_DF['region'] = GEO_DF['region'].str.replace(' - чувашия', '')\n",
    "GEO_DF = GEO_DF[GEO_DF['region'].isin(['республика крым', 'город федерального значения севастополь']) == False]\n",
    "GEO_DF['region'] = GEO_DF['region'].apply(lambda s: s.strip())\n",
    "GEO_DF = GEO_DF.merge(reg_df, left_on='region', right_on='fullname')[['okato', 'geometry']]\n",
    "GEO_DF.set_index('okato', inplace=True)\n",
    "\n",
    "GEO_DF"
   ]
  },
  {
   "cell_type": "markdown",
   "metadata": {},
   "source": [
    "Добавим в `GeoDataFrame` `GEO_DF` данные о средней ОПЖ при рождении за 1990-2023 годы."
   ]
  },
  {
   "cell_type": "code",
   "execution_count": null,
   "metadata": {},
   "outputs": [],
   "source": [
    "mean_by_okato = DF_LIFE_EXPECTANCY.drop('Регион', axis='columns').set_index('ОКАТО').mean(axis=1)\n",
    "\n",
    "GEO_DF['mean'] = mean_by_okato\n",
    "GEO_DF['name'] = DF_LIFE_EXPECTANCY.set_index('ОКАТО')['Регион']\n",
    "GEO_DF['district'] = DF_REGIONS.set_index('okato')['district']\n",
    "GEO_DF.reset_index(inplace=True)\n",
    "GEO_DF"
   ]
  },
  {
   "cell_type": "markdown",
   "metadata": {},
   "source": [
    "Нанесём полученные значения на карту."
   ]
  },
  {
   "cell_type": "code",
   "execution_count": null,
   "metadata": {},
   "outputs": [],
   "source": [
    "import folium\n",
    "\n",
    "mean_map = folium.Map(location=[62.800867, 101.903995], zoom_start=3)\n",
    "\n",
    "tooltip = folium.GeoJsonTooltip(\n",
    "    fields=[\"name\", \"okato\", \"district\", \"mean\"],\n",
    "    aliases=[\"Регион\", \"ОКАТО\", \"Федеральный округ\", \"Средняя ОПЖ, лет\"],\n",
    "    sticky=True,\n",
    "    labels=True\n",
    ")\n",
    "\n",
    "folium.Choropleth(\n",
    "    geo_data=GEO_DF,\n",
    "    name=\"choropleth\",\n",
    "    data=GEO_DF,\n",
    "    columns=[\"okato\", \"mean\"],\n",
    "    key_on=\"feature.properties.okato\",\n",
    "    fill_color=\"RdYlGn\",\n",
    "    fill_opacity=0.7,\n",
    "    line_opacity=0.2,\n",
    "    legend_name=\"Средняя ОПЖ при рождении за 1990-2023 гг., лет\"\n",
    ").add_to(mean_map)\n",
    "\n",
    "def get_style(feature):\n",
    "    return {\n",
    "        \"fillOpacity\": 0,\n",
    "        \"color\": \"balck\"\n",
    "    }\n",
    "\n",
    "folium.GeoJson(GEO_DF, tooltip=tooltip, style_function=get_style).add_to(mean_map)\n",
    "\n",
    "mean_map.save('./maps/mean_map.html')\n",
    "mean_map"
   ]
  },
  {
   "cell_type": "markdown",
   "metadata": {},
   "source": [
    "Полученная карта наглядно демонстрирует отставание Дальневостчного и Сибирского ФО и лидерство Центрального, Южного и Северо-Кавказского ФО."
   ]
  },
  {
   "cell_type": "markdown",
   "metadata": {},
   "source": [
    "Отображим карту с возможностью узнать ОПЖ при рождении за каждый 1990-2023 годы (добавим слайдер с помощью плагина `TimeSliderChoropleth`)."
   ]
  },
  {
   "cell_type": "code",
   "execution_count": null,
   "metadata": {},
   "outputs": [],
   "source": [
    "from folium.plugins import TimeSliderChoropleth\n",
    "import branca.colormap as cm\n",
    "\n",
    "\n",
    "years_map_data = pd.merge(GEO_DF, DF_LIFE_EXPECTANCY, left_on='okato', right_on='ОКАТО')[['okato', 'name', 'geometry'] + list(DF_LIFE_EXPECTANCY.columns[2:])]\n",
    "\n",
    "min_val = DF_LIFE_EXPECTANCY[DF_LIFE_EXPECTANCY.columns[2:]].min().min()\n",
    "max_val = DF_LIFE_EXPECTANCY[DF_LIFE_EXPECTANCY.columns[2:]].max().max()\n",
    "\n",
    "datetime_index = (pd.date_range(\"1990\",\"2024\", freq='YE').astype(\"int64\") // 10 ** 9).astype(\"U10\")\n",
    "datetime_index\n",
    "\n",
    "styledata = {}\n",
    "cmap = cm.linear.RdYlGn_03.scale(min_val, max_val)\n",
    "\n",
    "for okato in years_map_data['okato']:\n",
    "    df = pd.DataFrame(\n",
    "        {\n",
    "            \"color\": [(cmap(years_map_data[years_map_data['okato'] == okato].iloc[0][year]) if not (np.isnan(years_map_data[years_map_data['okato'] == okato].iloc[0][year])) else '#e3e8e6') for year in range(1990, 2024)],\n",
    "            \"opacity\": 1\n",
    "        },\n",
    "        index=datetime_index\n",
    "    )\n",
    "    styledata[okato] = df\n",
    "\n",
    "styledict = {\n",
    "    str(okato): data.to_dict(orient=\"index\") for okato, data in styledata.items()\n",
    "}\n",
    "\n",
    "years_map = folium.Map(location=[62.800867, 101.903995], zoom_start=3)\n",
    "\n",
    "TimeSliderChoropleth(\n",
    "    years_map_data.set_index('okato').to_json(),\n",
    "    styledict=styledict,\n",
    ").add_to(years_map)\n",
    "\n",
    "years_map.save('./maps/years_map.html')\n",
    "years_map"
   ]
  },
  {
   "cell_type": "markdown",
   "metadata": {},
   "source": [
    "Видно, что после 2019 года (в 2020 и 2021 годах) карта заметно бледнеет (т. е. ОПЖ при рождении в регионах уменьшается), что, вероятно, связанно с пандемией COVID-19. Построим таблицу по ФО со средними значениями в 2019, 2020, 2021 и 2022 годах."
   ]
  },
  {
   "cell_type": "code",
   "execution_count": null,
   "metadata": {},
   "outputs": [],
   "source": [
    "years = range(2019, 2023)\n",
    "table = pd.DataFrame(index=DF_REGIONS['district'].unique(), columns=[f\"mean {year}\" for year in years])\n",
    "table.index.name = 'Федеральный округ'\n",
    "\n",
    "for year in years:\n",
    "    table[f\"mean {year}\"] = table_data.groupby('district')[year].mean()\n",
    "\n",
    "table.loc['Среднее'] = table.mean(axis=0)\n",
    "\n",
    "table"
   ]
  },
  {
   "cell_type": "markdown",
   "metadata": {},
   "source": [
    "Видим численное уменьшение средних значений ОПЖ при рождении в 2020 и 2021 годах. Построим график для иллюстрации данного явления."
   ]
  },
  {
   "cell_type": "code",
   "execution_count": null,
   "metadata": {},
   "outputs": [],
   "source": [
    "plt.figure(\"7\", (13, 6))\n",
    "\n",
    "plt.plot(table.rename(lambda name: name.split()[1], axis='columns').T, '-o', label=table.index)\n",
    "plt.grid()\n",
    "plt.legend(loc=1)\n",
    "plt.margins(x=0.01)\n",
    "plt.yticks(range(67, 78))\n",
    "plt.xlabel('Год наблюдений')\n",
    "plt.ylabel('Средняя ОПЖ при рождении в ФО')\n",
    "plt.title('Падение средних значений ОПЖ при рождении в 2020-2021 гг.')\n",
    "\n",
    "plt.tight_layout()\n",
    "plt.savefig('./images/covid_decrease.png', transparent=True)\n",
    "\n",
    "plt.show()"
   ]
  },
  {
   "cell_type": "markdown",
   "metadata": {},
   "source": [
    "## Проверка зависимости ОПЖ при рождении и населения на 1 врача\n",
    "\n",
    "Проверим наличие статистической зависимости ОПЖ при рождении с количеством населения на одного врача. При вычислении ОПЖ при рождении напрямую не используется параметр населения на 1 врача и наоброт, поэтому такая проверка не лишена смысла.\n",
    "\n",
    "Построим график, на котором отобразим средние значение этих двух параметров по всем регионам с 1997 по 2017 годы."
   ]
  },
  {
   "cell_type": "code",
   "execution_count": null,
   "metadata": {},
   "outputs": [],
   "source": [
    "fig, ax1 = plt.subplots()\n",
    "\n",
    "fig.set_size_inches(10, 5)\n",
    "\n",
    "ax1.plot(DF_LIFE_EXPECTANCY[range(1997, 2018)].mean(axis=0), '-o', color='green')\n",
    "ax1.tick_params(axis='y', colors='green')\n",
    "ax1.set_ylabel('Средняя по стране ОПЖ при рождении, лет')\n",
    "\n",
    "plt.xticks(range(1997, 2018))\n",
    "plt.grid()\n",
    "plt.margins(x=0.02)\n",
    "\n",
    "ax2 = ax1.twinx()\n",
    "ax2.plot(DF_POPULATION_PER_DOCTOR[range(1997, 2018)].mean(axis=0), '-o', color='red')\n",
    "ax2.tick_params(axis='y', colors='red')\n",
    "ax2.set_ylabel('Среднее по регионам население на 1 врача, чел.')\n",
    "\n",
    "plt.tight_layout()\n",
    "plt.title('Связь между населением на 1 врача и ОПЖ при рождении')\n",
    "\n",
    "plt.tight_layout()\n",
    "plt.savefig('./images/medicine_relation_plot.png', transparent=True)\n",
    "\n",
    "plt.show()"
   ]
  },
  {
   "cell_type": "markdown",
   "metadata": {},
   "source": [
    "Видим, что есть тенденция увелечения средней ОПЖ при рождении при уменьшении населения на 1 врача. Построим диагрмму разброса (scatter-plot) для этих параметров."
   ]
  },
  {
   "cell_type": "code",
   "execution_count": null,
   "metadata": {},
   "outputs": [],
   "source": [
    "plt.figure(\"8\")\n",
    "plt.scatter(DF_LIFE_EXPECTANCY[range(1997, 2018)].mean(axis=0), DF_POPULATION_PER_DOCTOR[range(1997, 2018)].mean(axis=0))\n",
    "plt.grid()\n",
    "plt.xlabel('Средняя ОПЖ при рождении, лет')\n",
    "plt.ylabel('Среднее население на 1 врача, чел.')\n",
    "plt.title('Связь между ОПЖ и населением на 1 врача')\n",
    "\n",
    "plt.tight_layout()\n",
    "plt.savefig('./images/medicine_relation_scatter.png', transparent=True)\n",
    "\n",
    "plt.show()"
   ]
  },
  {
   "cell_type": "markdown",
   "metadata": {},
   "source": [
    "Эта диаграмма так же демонстрирует потенциальную отрицательную корреляцию между двумя рассматриваемыми параметрами. С помощью функции `scipy.stats.pearsonr` оценим корреляцию между этими величинами."
   ]
  },
  {
   "cell_type": "code",
   "execution_count": null,
   "metadata": {},
   "outputs": [],
   "source": [
    "from scipy.stats import pearsonr\n",
    "\n",
    "result = pearsonr(DF_LIFE_EXPECTANCY[range(1997, 2018)].mean(axis=0), DF_POPULATION_PER_DOCTOR[range(1997, 2018)].mean(axis=0))\n",
    "result.statistic"
   ]
  },
  {
   "cell_type": "markdown",
   "metadata": {},
   "source": [
    "Полученное значение (примерно `-0.625`) свидетельствует о наличии значительной отрицательной корреляции и статистической взаимосвязи между ОПЖ и населением на 1 врача, что, однако, не говорит о наличии причинно-следственной связи, но, как минимум, ставит этот вопрос для дальнейших исследований.\n",
    "\n",
    "## Вывод\n",
    "\n",
    "В результате выполнения данной работы был проведен анализ данных об ожидаемой продолжительности жизни, выявлены субъекты с минимальными и максимальными показателями, проанализирован разрыв между ними. Также был проанализирован показатель ОПЖ при рождении для федеральных округов РФ. Для визуализации данных и выявления тенденций были построены графики, диаграммы и карты. Была выявлена значительная отрицательная корреляция между средним по стране ОПЖ при рождении и средним по стране населением на 1 врача, что ставит вопрос о наличии причинно-следственной связи между этими показателями."
   ]
  }
 ],
 "metadata": {
  "kernelspec": {
   "display_name": "base",
   "language": "python",
   "name": "python3"
  },
  "language_info": {
   "codemirror_mode": {
    "name": "ipython",
    "version": 3
   },
   "file_extension": ".py",
   "mimetype": "text/x-python",
   "name": "python",
   "nbconvert_exporter": "python",
   "pygments_lexer": "ipython3"
  }
 },
 "nbformat": 4,
 "nbformat_minor": 2
}
